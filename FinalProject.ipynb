{
 "cells": [
  {
   "cell_type": "markdown",
   "id": "dc588a0e-0f94-44bc-95e4-d35211937f1d",
   "metadata": {},
   "source": [
    "# Importing necessary materials"
   ]
  },
  {
   "cell_type": "code",
   "execution_count": 1,
   "id": "7da3ba42-d391-42e4-9103-e4e7a42d09f4",
   "metadata": {},
   "outputs": [
    {
     "data": {
      "text/plain": [
       "['balanced', 'byclass', 'bymerge', 'digits', 'letters', 'mnist']"
      ]
     },
     "execution_count": 1,
     "metadata": {},
     "output_type": "execute_result"
    }
   ],
   "source": [
    "import tensorflow as tf\n",
    "import numpy as np\n",
    "import matplotlib.pyplot as plt\n",
    "import pandas as pd\n",
    "import os \n",
    "import cv2\n",
    "from tensorflow.keras.preprocessing.image import load_img\n",
    "from tensorflow.keras.preprocessing.image import img_to_array\n",
    "from tensorflow.keras.callbacks import ModelCheckpoint,ReduceLROnPlateau,EarlyStopping\n",
    "from emnist import list_datasets\n",
    "from emnist import extract_training_samples \n",
    "from emnist import extract_test_samples\n",
    "from tensorflow.keras.models import Sequential #importing seqential to make a sequencial model \n",
    "from tensorflow.keras.layers import Dense, Conv2D, Dropout, Flatten, MaxPooling2D #importing other needed libraies from layers\n",
    "list_datasets() #printing the list datasets in EMNIST to see which one to use"
   ]
  },
  {
   "cell_type": "markdown",
   "id": "d69801e5-8015-466a-afb7-ce6be3248ba3",
   "metadata": {},
   "source": [
    "# Getting the trian and test data"
   ]
  },
  {
   "cell_type": "code",
   "execution_count": 2,
   "id": "e107a173-03ce-4072-914e-cdf331df1102",
   "metadata": {},
   "outputs": [],
   "source": [
    "images, labels = extract_training_samples('letters') #getting the training samples from the letters dataset \n",
    "test_images, test_labels = extract_test_samples('letters') #getting the testing samples from the letters dataset "
   ]
  },
  {
   "cell_type": "markdown",
   "id": "f00923b6-7899-4204-8100-ec0ef5da44c2",
   "metadata": {},
   "source": [
    "# Processing the data/ feature engineering"
   ]
  },
  {
   "cell_type": "code",
   "execution_count": 3,
   "id": "930f2869-6f1c-4f02-87bd-2d2ed35dde84",
   "metadata": {},
   "outputs": [],
   "source": [
    "images = images.reshape(images.shape[0], 28, 28, 1) #reshaping the images in the training sample to the greyscale format \n",
    "test_images = test_images.reshape(test_images.shape[0], 28, 28, 1) #reshaping the images in the testing samples to the grayscale format"
   ]
  },
  {
   "cell_type": "code",
   "execution_count": 4,
   "id": "998288c8-49e2-41f9-a985-15af38b0860e",
   "metadata": {},
   "outputs": [],
   "source": [
    "images = images/255 #reducing the size of the datsets so they aren't greater than 0 or 1 \n",
    "test_images = test_images/255 #reducing the size of the datsets so they aren't greater than 0 or 1 "
   ]
  },
  {
   "cell_type": "markdown",
   "id": "ab63a692-d662-4d30-9d29-566bc3ba2a16",
   "metadata": {},
   "source": [
    "# Making the CNN"
   ]
  },
  {
   "cell_type": "code",
   "execution_count": 5,
   "id": "f230474e-7815-47e5-8277-a535c0107bec",
   "metadata": {},
   "outputs": [
    {
     "name": "stderr",
     "output_type": "stream",
     "text": [
      "2021-12-12 16:22:08.746631: I tensorflow/core/platform/cpu_feature_guard.cc:151] This TensorFlow binary is optimized with oneAPI Deep Neural Network Library (oneDNN) to use the following CPU instructions in performance-critical operations:  AVX2 FMA\n",
      "To enable them in other operations, rebuild TensorFlow with the appropriate compiler flags.\n"
     ]
    }
   ],
   "source": [
    "input_shape = (28, 28, 1) #setting the input shape to be the same value as the image \n",
    "model = Sequential() #creating a model of type sequential\n",
    "model.add(Conv2D(28, kernel_size=(3,3), input_shape=input_shape)) #adding a Conv2D layer to the model input size to go over the image\n",
    "model.add(MaxPooling2D(pool_size=(2, 2))) #adding max pooling to the model to differenciate light from dark colors\n",
    "model.add(Flatten()) #flattening the model to make it a single array\n",
    "model.add(Dense(128, activation=tf.nn.relu)) #adding a dense layer with 128 nuerons to the modle to get the next output layer using relu to prevent exponential growth\n",
    "model.add(Dropout(0.2)) #adding a dropout to prevent overfitting\n",
    "model.add(Dense(30,activation=tf.nn.softmax)) #adding another desnse layer with 30 nuerons using softmax to output a fit between 0 and 1 "
   ]
  },
  {
   "cell_type": "markdown",
   "id": "f885923a-e84b-46fe-8769-26b7614d4d18",
   "metadata": {},
   "source": [
    "# Compiling the CNN and running it for 10 epochs"
   ]
  },
  {
   "cell_type": "code",
   "execution_count": 6,
   "id": "c67a7f41-d8bc-4472-bfd6-a2bf38430060",
   "metadata": {},
   "outputs": [
    {
     "name": "stdout",
     "output_type": "stream",
     "text": [
      "Epoch 1/10\n",
      "3900/3900 [==============================] - 44s 11ms/step - loss: 0.6369 - accuracy: 0.8029\n",
      "Epoch 2/10\n",
      "3900/3900 [==============================] - 39s 10ms/step - loss: 0.3760 - accuracy: 0.8793\n",
      "Epoch 3/10\n",
      "3900/3900 [==============================] - 44s 11ms/step - loss: 0.3200 - accuracy: 0.8949\n",
      "Epoch 4/10\n",
      "3900/3900 [==============================] - 49s 13ms/step - loss: 0.2853 - accuracy: 0.9061\n",
      "Epoch 5/10\n",
      "3900/3900 [==============================] - 68s 18ms/step - loss: 0.2629 - accuracy: 0.9110\n",
      "Epoch 6/10\n",
      "3900/3900 [==============================] - 64s 16ms/step - loss: 0.2449 - accuracy: 0.9165\n",
      "Epoch 7/10\n",
      "3900/3900 [==============================] - 55s 14ms/step - loss: 0.2294 - accuracy: 0.9215\n",
      "Epoch 8/10\n",
      "3900/3900 [==============================] - 57s 15ms/step - loss: 0.2195 - accuracy: 0.9232\n",
      "Epoch 9/10\n",
      "3900/3900 [==============================] - 76s 19ms/step - loss: 0.2062 - accuracy: 0.9265\n",
      "Epoch 10/10\n",
      "3900/3900 [==============================] - 62s 16ms/step - loss: 0.1957 - accuracy: 0.9301\n"
     ]
    },
    {
     "data": {
      "text/plain": [
       "<keras.callbacks.History at 0x7f8bb0c48ac0>"
      ]
     },
     "execution_count": 6,
     "metadata": {},
     "output_type": "execute_result"
    }
   ],
   "source": [
    "model.compile(optimizer='adam', loss='sparse_categorical_crossentropy', metrics=['accuracy']) #compiling the model \n",
    "model.fit(images, labels, epochs=10) #fitting the model and running it 10 times"
   ]
  },
  {
   "cell_type": "markdown",
   "id": "1d32bc8c-ebe0-4e49-a0ae-11f2c11b2953",
   "metadata": {},
   "source": [
    "# Evaluating the model for accuracy"
   ]
  },
  {
   "cell_type": "code",
   "execution_count": 7,
   "id": "b1b75bd6-dddf-474b-9c0a-302c393a22ab",
   "metadata": {},
   "outputs": [
    {
     "name": "stdout",
     "output_type": "stream",
     "text": [
      "650/650 [==============================] - 5s 6ms/step - loss: 0.2899 - accuracy: 0.9155\n"
     ]
    },
    {
     "data": {
      "text/plain": [
       "[0.28993430733680725, 0.9154807925224304]"
      ]
     },
     "execution_count": 7,
     "metadata": {},
     "output_type": "execute_result"
    }
   ],
   "source": [
    "model.evaluate(test_images, test_labels) #evaulating the model to get its accuracy"
   ]
  },
  {
   "cell_type": "markdown",
   "id": "11af2242-57c7-4292-ac73-5197026ba3a0",
   "metadata": {},
   "source": [
    "# Loading and word counting the first phrase"
   ]
  },
  {
   "cell_type": "code",
   "execution_count": 8,
   "id": "28d40d45-ec72-40ca-aca8-f0dde4eb9a07",
   "metadata": {},
   "outputs": [
    {
     "name": "stdout",
     "output_type": "stream",
     "text": [
      "['00.jpg', '01.jpg', '02.jpg', '03.jpg', '04.jpg', '05.jpg', '06.jpg', '07.jpg', '08.jpg', '09.jpg', '10.jpg']\n"
     ]
    }
   ],
   "source": [
    "root, directory, files = next(os.walk(\"/Users/katewalker/desktop/senior-year-semester1/machinelearning/JuypterLab/sample1\"))\n",
    "#walking through the files in the folder for the first phrase\n",
    "files.sort()\n",
    "files.remove('.DS_Store') #removing autogenerated file\n",
    "print(files) #printing the files in the folder"
   ]
  },
  {
   "cell_type": "code",
   "execution_count": 9,
   "id": "5612b4db-4dd6-4174-8127-1590b5ff17a1",
   "metadata": {},
   "outputs": [
    {
     "name": "stdout",
     "output_type": "stream",
     "text": [
      "added images to the phrase\n"
     ]
    },
    {
     "data": {
      "text/plain": [
       "<matplotlib.image.AxesImage at 0x7f8bb289dbb0>"
      ]
     },
     "execution_count": 9,
     "metadata": {},
     "output_type": "execute_result"
    },
    {
     "data": {
      "image/png": "[encoded data removed]",
      "text/plain": [
       "<Figure size 432x288 with 1 Axes>"
      ]
     },
     "metadata": {
      "needs_background": "light"
     },
     "output_type": "display_data"
    }
   ],
   "source": [
    "#processing the scanned in images\n",
    "handwriting= [] #array to hold the phrase \n",
    "for i in range(len(files)):#walking through each file in the directory \n",
    "    img = cv2.imread(\"/Users/katewalker/desktop/senior-year-semester1/machinelearning/JuypterLab/sample1/\"+files[i],cv2.IMREAD_GRAYSCALE)\n",
    "    #setting the img to be the next file in the directory\n",
    "    handwriting.append(img) #appending the image to the array \n",
    "    \n",
    "print(\"added images to the phrase\") #printing a message to know all files have been added \n",
    "\n",
    "plt.imshow(handwriting[10],cmap = 'gray') #showing the image at a specific index\n"
   ]
  },
  {
   "cell_type": "code",
   "execution_count": 21,
   "id": "babc2322-ecf1-4c90-a1fb-4100cc8bb5c6",
   "metadata": {},
   "outputs": [
    {
     "name": "stdout",
     "output_type": "stream",
     "text": [
      "added images to processed array\n"
     ]
    },
    {
     "data": {
      "text/plain": [
       "<matplotlib.image.AxesImage at 0x7f8b9a2e0fd0>"
      ]
     },
     "execution_count": 21,
     "metadata": {},
     "output_type": "execute_result"
    },
    {
     "data": {
      "image/png": "[encoded data removed]",
      "text/plain": [
       "<Figure size 432x288 with 1 Axes>"
      ]
     },
     "metadata": {
      "needs_background": "light"
     },
     "output_type": "display_data"
    }
   ],
   "source": [
    "processed_handwriting = [] #array to hold the processed phrase\n",
    "\n",
    "for image in handwriting: #looping through each image in the handwriting array\n",
    "    points = cv2.findNonZero(image) #getting the width and the height\n",
    "    val1, val2, width, height = cv2.boundingRect(points) #drawing an approximate rectagle around the part of the image containing the letter\n",
    "    #cropping the image to fit the size of the rectangle\n",
    "    if (width > 0 and height > 0):\n",
    "        if width > height:\n",
    "            val2 = val2 - (width-height)//2 \n",
    "            image = image[val2:val2+width, val1:val1+width]\n",
    "        else:\n",
    "            val1 = val1 - (height-width)//2 \n",
    "            image = image[val2:val2+height, val1:val1+height] \n",
    "    image = cv2.resize(image, (28,28), interpolation = cv2.INTER_AREA) #resize the image to be 28X28 and shrink the image down \n",
    "    processed_handwriting.append(image) #add the image to the array \n",
    "\n",
    "print(\"added images to processed array\") #print statement to know loop is done\n",
    "\n",
    "plt.imshow(processed_handwriting[0],cmap = 'gray') #showing image at a specified index"
   ]
  },
  {
   "cell_type": "code",
   "execution_count": 22,
   "id": "055e55aa-6fab-4fea-8cd4-64cc7ac3fdbc",
   "metadata": {},
   "outputs": [
    {
     "name": "stdout",
     "output_type": "stream",
     "text": [
      "total spaces:\n",
      "1\n",
      "word count\n",
      "2\n"
     ]
    }
   ],
   "source": [
    "spaces = 0 #intializing spaces to 0 \n",
    "words = 1 #intializing words to 1\n",
    "\n",
    "for char in processed_handwriting: #looping throught each letter\n",
    "    num_pixels = 0 \n",
    "    for j in range(28): #looping through the pixels\n",
    "        for k in range(28):\n",
    "            num_pixels += char[j,k] #adding each pixel to the overall value\n",
    "    if num_pixels < 20: #if the pixel value is less than 20 \n",
    "        spaces = spaces + 1 #then the character is a space \n",
    "        words = words + 1 #increment word count\n",
    "        \n",
    "#printing the results\n",
    "print(\"total spaces:\")\n",
    "print(spaces)\n",
    "print(\"word count\")\n",
    "print(words)"
   ]
  },
  {
   "cell_type": "markdown",
   "id": "8994546d-348d-4c44-8d70-c4de44f2cb74",
   "metadata": {},
   "source": [
    "# Loading and word counting the second phrase"
   ]
  },
  {
   "cell_type": "code",
   "execution_count": 23,
   "id": "cc3f4e40-2e9f-4892-81c3-9da3e5cd11eb",
   "metadata": {},
   "outputs": [
    {
     "name": "stdout",
     "output_type": "stream",
     "text": [
      "['00.jpg', '01.jpg', '02.jpg', '03.jpg', '04.jpg', '05.jpg', '06.jpg', '07.jpg', '08.jpg', '09.jpg', '10.jpg', '11.jpg', '12.jpg', '13.jpg', '14.jpg', '15.jpg', '16.jpg', '17.jpg', '18.jpg', '19.jpg', '20.jpg', '21.jpg', '22.jpg', '23.jpg', '24.jpg', '25.jpg', '26.jpg', '27.jpg', '28.jpg', '29.jpg', '30.jpg', '31.jpg', '32.jpg', '33.jpg', '34.jpg', '35.jpg', '36.jpg']\n"
     ]
    }
   ],
   "source": [
    "root, directory, files = next(os.walk(\"/Users/katewalker/desktop/senior-year-semester1/machinelearning/JuypterLab/sample2\"))\n",
    "#walking through the files in the folder for the first phrase\n",
    "files.sort()\n",
    "files.remove('.DS_Store') #removing autogenerated file\n",
    "print(files) #printing the files in the folder"
   ]
  },
  {
   "cell_type": "code",
   "execution_count": 28,
   "id": "8f7a8d89-34f9-44bb-b34c-c9ccbe3a0aed",
   "metadata": {},
   "outputs": [
    {
     "name": "stdout",
     "output_type": "stream",
     "text": [
      "added images to the phrase\n"
     ]
    },
    {
     "data": {
      "text/plain": [
       "<matplotlib.image.AxesImage at 0x7f8b9aa75910>"
      ]
     },
     "execution_count": 28,
     "metadata": {},
     "output_type": "execute_result"
    },
    {
     "data": {
      "image/png": "[encoded data removed]",
      "text/plain": [
       "<Figure size 432x288 with 1 Axes>"
      ]
     },
     "metadata": {
      "needs_background": "light"
     },
     "output_type": "display_data"
    }
   ],
   "source": [
    "#processing the scanned in images\n",
    "handwriting2= [] #array to hold the phrase \n",
    "for i in range(len(files)):#walking through each file in the directory \n",
    "    img = cv2.imread(\"/Users/katewalker/desktop/senior-year-semester1/machinelearning/JuypterLab/sample2/\"+files[i],cv2.IMREAD_GRAYSCALE)\n",
    "    #setting the img to be the next file in the directory\n",
    "    handwriting2.append(img) #appending the image to the array \n",
    "    \n",
    "print(\"added images to the phrase\") #printing a message to know all files have been added \n",
    "\n",
    "plt.imshow(handwriting2[4],cmap = 'gray') #showing the image at a specific index"
   ]
  },
  {
   "cell_type": "code",
   "execution_count": 30,
   "id": "04b1243e-cc13-4887-9b6a-053f05f0c169",
   "metadata": {},
   "outputs": [
    {
     "name": "stdout",
     "output_type": "stream",
     "text": [
      "added images to processed array\n"
     ]
    },
    {
     "data": {
      "text/plain": [
       "<matplotlib.image.AxesImage at 0x7f8b99da13a0>"
      ]
     },
     "execution_count": 30,
     "metadata": {},
     "output_type": "execute_result"
    },
    {
     "data": {
      "image/png": "[encoded data removed]",
      "text/plain": [
       "<Figure size 432x288 with 1 Axes>"
      ]
     },
     "metadata": {
      "needs_background": "light"
     },
     "output_type": "display_data"
    }
   ],
   "source": [
    "processed_handwriting2 = [] #array to hold the processed phrase\n",
    "\n",
    "for image2 in handwriting2: #looping through each image in the handwritten phrase array\n",
    "    points = cv2.findNonZero(image2) #getting the width and the height\n",
    "    val1, val2, width, height = cv2.boundingRect(points) #drawing an approximate rectagle around the part of the image containing the letter\n",
    "    #cropping the image to fit the size of the rectangle\n",
    "    if (width > 0 and height > 0):\n",
    "        if width > height:\n",
    "            val2 = val2 - (width-height)//2 \n",
    "            image2 = image2[val2:val2+width, val1:val1+width]\n",
    "        else:\n",
    "            val1 = val1 - (height-width)//2 \n",
    "            image2 = image2[val2:val2+height, val1:val1+height] \n",
    "    image2 = cv2.resize(image2, (28,28), interpolation = cv2.INTER_AREA) #resize the image to be 28X28 and shrink the image down \n",
    "    processed_handwriting2.append(image2) #add the image to the array \n",
    "\n",
    "print(\"added images to processed array\") #print statement to know loop is done\n",
    "\n",
    "plt.imshow(processed_handwriting2[0],cmap = 'gray') #showing image at a specified index"
   ]
  },
  {
   "cell_type": "code",
   "execution_count": null,
   "id": "76ad9b73-e879-4fb3-af93-66729bd79e27",
   "metadata": {},
   "outputs": [],
   "source": [
    "spaces2 = 0\n",
    "words2 = 1\n",
    "\n",
    "for char2 in processed_handwriting2: \n",
    "    num_pixels2 = 0 \n",
    "    for j in range(28):\n",
    "        for k in range(28):\n",
    "            num_pixels2 += char2[j,k]\n",
    "    if num_pixels2 < 20: \n",
    "        spaces2 = spaces2 + 1 \n",
    "        words2 = words2 + 1 \n",
    "#printing the results\n",
    "print(\"total spaces:\")\n",
    "print(spaces2)\n",
    "print(\"word count:\")\n",
    "print(words2)"
   ]
  },
  {
   "cell_type": "code",
   "execution_count": null,
   "id": "d9ff0a26-11f3-4f03-bba7-d791f6bb2aa8",
   "metadata": {},
   "outputs": [],
   "source": []
  }
 ],
 "metadata": {
  "kernelspec": {
   "display_name": "Python 3 (ipykernel)",
   "language": "python",
   "name": "python3"
  },
  "language_info": {
   "codemirror_mode": {
    "name": "ipython",
    "version": 3
   },
   "file_extension": ".py",
   "mimetype": "text/x-python",
   "name": "python",
   "nbconvert_exporter": "python",
   "pygments_lexer": "ipython3",
   "version": "3.9.4"
  }
 },
 "nbformat": 4,
 "nbformat_minor": 5
}
